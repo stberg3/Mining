{
 "cells": [
  {
   "cell_type": "markdown",
   "metadata": {},
   "source": [
    "###  Successor\n",
    "Write an alg. to find the next node (in-order successor) of a given node in a BST. You may assume each node has a link to its parent"
   ]
  },
  {
   "cell_type": "code",
   "execution_count": 3,
   "metadata": {
    "collapsed": true
   },
   "outputs": [],
   "source": [
    "class Node(object):\n",
    "  __slots__ = [\"data\", \"parent\", \"l_child\", \"r_child\"]\n",
    "  \n",
    "  def __init__(self, data):\n",
    "    self.data = data\n",
    "    self.parent = None\n",
    "    self.r_child = None\n",
    "    self.l_child = None\n",
    "    \n",
    "  def __str__(self):\n",
    "    return str(self.data)\n",
    "  \n",
    "  def __repr__(self):\n",
    "    return str(self)\n",
    "  \n",
    "  def __gt__(self, other):\n",
    "    return self.data > other.data\n",
    "  \n",
    "  def __lt__(self, other):\n",
    "    return self.data < other.data\n",
    "    \n",
    "class BST(object):\n",
    "  def __init__(self):\n",
    "    self.root = None"
   ]
  },
  {
   "cell_type": "code",
   "execution_count": 5,
   "metadata": {
    "collapsed": false
   },
   "outputs": [],
   "source": [
    "b_bst = BST()\n",
    "b_bst.root = Node(10)\n",
    "\n",
    "b_bst.root.l_child = Node(5)\n",
    "b_bst.root.r_child = Node(15)\n",
    "b_bst.root.l_child.parent = b_bst.root\n",
    "b_bst.root.r_child.parent = b_bst.root\n",
    "\n",
    "b_bst.root.l_child.l_child = Node(3)\n",
    "b_bst.root.l_child.r_child = Node(7)\n",
    "b_bst.root.r_child.l_child = Node(13)\n",
    "b_bst.root.r_child.r_child = Node(17)\n",
    "\n",
    "b_bst.root.l_child.l_child.parent = b_bst.root.l_child\n",
    "b_bst.root.l_child.r_child.parent = b_bst.root.l_child\n",
    "b_bst.root.r_child.l_child.parent = b_bst.root.r_child\n",
    "b_bst.root.r_child.r_child.parent = b_bst.root.r_child"
   ]
  },
  {
   "cell_type": "code",
   "execution_count": 9,
   "metadata": {
    "collapsed": false
   },
   "outputs": [
    {
     "name": "stdout",
     "output_type": "stream",
     "text": [
      "13\n"
     ]
    },
    {
     "ename": "AttributeError",
     "evalue": "'NoneType' object has no attribute 'l_child'",
     "output_type": "error",
     "traceback": [
      "\u001b[1;31m---------------------------------------\u001b[0m",
      "\u001b[1;31mAttributeError\u001b[0mTraceback (most recent call last)",
      "\u001b[1;32m<ipython-input-9-93a0db8180e3>\u001b[0m in \u001b[0;36m<module>\u001b[1;34m()\u001b[0m\n\u001b[0;32m     15\u001b[0m \u001b[1;33m\u001b[0m\u001b[0m\n\u001b[0;32m     16\u001b[0m \u001b[0mprint\u001b[0m\u001b[1;33m(\u001b[0m\u001b[0mb_bst\u001b[0m\u001b[1;33m.\u001b[0m\u001b[0mroot\u001b[0m\u001b[1;33m.\u001b[0m\u001b[0mr_child\u001b[0m\u001b[1;33m.\u001b[0m\u001b[0ml_child\u001b[0m\u001b[1;33m)\u001b[0m\u001b[1;33m\u001b[0m\u001b[0m\n\u001b[1;32m---> 17\u001b[1;33m \u001b[0mprint\u001b[0m\u001b[1;33m(\u001b[0m\u001b[0msuccessor\u001b[0m\u001b[1;33m(\u001b[0m\u001b[0mb_bst\u001b[0m\u001b[1;33m.\u001b[0m\u001b[0mroot\u001b[0m\u001b[1;33m.\u001b[0m\u001b[0mr_child\u001b[0m\u001b[1;33m.\u001b[0m\u001b[0ml_child\u001b[0m\u001b[1;33m)\u001b[0m\u001b[1;33m)\u001b[0m\u001b[1;33m\u001b[0m\u001b[0m\n\u001b[0m",
      "\u001b[1;32m<ipython-input-9-93a0db8180e3>\u001b[0m in \u001b[0;36msuccessor\u001b[1;34m(node)\u001b[0m\n\u001b[0;32m      8\u001b[0m   \u001b[1;32mif\u001b[0m \u001b[0mnode\u001b[0m\u001b[1;33m.\u001b[0m\u001b[0mparent\u001b[0m\u001b[1;33m:\u001b[0m\u001b[1;33m\u001b[0m\u001b[0m\n\u001b[0;32m      9\u001b[0m     \u001b[1;32mif\u001b[0m \u001b[0mnode\u001b[0m \u001b[1;33m<\u001b[0m \u001b[0mnode\u001b[0m\u001b[1;33m.\u001b[0m\u001b[0mparent\u001b[0m\u001b[1;33m:\u001b[0m\u001b[1;33m\u001b[0m\u001b[0m\n\u001b[1;32m---> 10\u001b[1;33m       \u001b[1;32mreturn\u001b[0m \u001b[0mlowest\u001b[0m\u001b[1;33m(\u001b[0m\u001b[0mnode\u001b[0m\u001b[1;33m.\u001b[0m\u001b[0mr_child\u001b[0m\u001b[1;33m)\u001b[0m\u001b[1;33m\u001b[0m\u001b[0m\n\u001b[0m\u001b[0;32m     11\u001b[0m     \u001b[1;32melse\u001b[0m\u001b[1;33m:\u001b[0m\u001b[1;33m\u001b[0m\u001b[0m\n\u001b[0;32m     12\u001b[0m       \u001b[1;32mreturn\u001b[0m \u001b[0mparent\u001b[0m\u001b[1;33m\u001b[0m\u001b[0m\n",
      "\u001b[1;32m<ipython-input-9-93a0db8180e3>\u001b[0m in \u001b[0;36mlowest\u001b[1;34m(node)\u001b[0m\n\u001b[0;32m      1\u001b[0m \u001b[1;32mdef\u001b[0m \u001b[0mlowest\u001b[0m\u001b[1;33m(\u001b[0m\u001b[0mnode\u001b[0m\u001b[1;33m)\u001b[0m\u001b[1;33m:\u001b[0m\u001b[1;33m\u001b[0m\u001b[0m\n\u001b[0;32m      2\u001b[0m   \u001b[0mprobe\u001b[0m \u001b[1;33m=\u001b[0m \u001b[0mnode\u001b[0m\u001b[1;33m\u001b[0m\u001b[0m\n\u001b[1;32m----> 3\u001b[1;33m   \u001b[1;32mwhile\u001b[0m \u001b[0mprobe\u001b[0m\u001b[1;33m.\u001b[0m\u001b[0ml_child\u001b[0m\u001b[1;33m:\u001b[0m\u001b[1;33m\u001b[0m\u001b[0m\n\u001b[0m\u001b[0;32m      4\u001b[0m     \u001b[0mprobe\u001b[0m \u001b[1;33m=\u001b[0m \u001b[0mprobe\u001b[0m\u001b[1;33m.\u001b[0m\u001b[0ml_child\u001b[0m\u001b[1;33m\u001b[0m\u001b[0m\n\u001b[0;32m      5\u001b[0m   \u001b[1;32mreturn\u001b[0m \u001b[0mprobe\u001b[0m\u001b[1;33m\u001b[0m\u001b[0m\n",
      "\u001b[1;31mAttributeError\u001b[0m: 'NoneType' object has no attribute 'l_child'"
     ]
    }
   ],
   "source": [
    "def lowest(node):\n",
    "  probe = node\n",
    "  while probe.l_child:\n",
    "    probe = probe.l_child\n",
    "  return probe\n",
    "      \n",
    "def successor(node):\n",
    "  if node.parent:\n",
    "      if node.r_child\n",
    "        return lowest(node.r_child)\n",
    "      else:\n",
    "        return parent\n",
    "  else:\n",
    "    if node.r_child\n",
    "      return lowest(node.r_child)\n",
    "    else:\n",
    "      return None\n",
    "  \n",
    "print(b_bst.root.r_child.l_child)\n",
    "print(successor(b_bst.root.r_child.l_child))"
   ]
  }
 ],
 "metadata": {
  "kernelspec": {
   "display_name": "Python 3",
   "language": "python",
   "name": "python3"
  },
  "language_info": {
   "codemirror_mode": {
    "name": "ipython",
    "version": 3
   },
   "file_extension": ".py",
   "mimetype": "text/x-python",
   "name": "python",
   "nbconvert_exporter": "python",
   "pygments_lexer": "ipython3",
   "version": "3.5.1"
  }
 },
 "nbformat": 4,
 "nbformat_minor": 0
}
