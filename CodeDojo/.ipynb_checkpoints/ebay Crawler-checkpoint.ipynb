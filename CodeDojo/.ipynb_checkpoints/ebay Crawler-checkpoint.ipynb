{
 "cells": [
  {
   "cell_type": "code",
   "execution_count": 3,
   "metadata": {
    "collapsed": false
   },
   "outputs": [],
   "source": [
    "import lxml\n",
    "from bs4 import BeautifulSoup\n",
    "from urllib.request import urlopen\n",
    "\n",
    "url = \"http://www.ebay.com/itm/Wolverine-1000-Mile-Brown-Leather-Plain-Toe-Boot-Mens-Size-12-D-/272533729564?hash=item3f7446b11c:g:o~gAAOSwUKxYh6SD\"\n",
    "page = urlopen(url).read()\n",
    "soup = BeautifulSoup(page, \"lxml\")"
   ]
  },
  {
   "cell_type": "code",
   "execution_count": 23,
   "metadata": {
    "collapsed": false
   },
   "outputs": [
    {
     "name": "stdout",
     "output_type": "stream",
     "text": [
      "49.99\n",
      "\r\n",
      "\t\t\t\t\t\t\t\t\t\t\t\t2d 02h \n"
     ]
    }
   ],
   "source": [
    "import re\n",
    "price = soup.find(\"span\",id=\"prcIsum_bidPrice\")[\"content\"]\n",
    "time_left_text = soup.find(\"span\", id=\"vi-cdown_timeLeft\").text\n",
    "time_left = re.match(r\"(\\w+)\", time_left_text).group(0)\n",
    "print(price)\n",
    "print(str(time_left))"
   ]
  }
 ],
 "metadata": {
  "kernelspec": {
   "display_name": "Python 3",
   "language": "python",
   "name": "python3"
  },
  "language_info": {
   "codemirror_mode": {
    "name": "ipython",
    "version": 3
   },
   "file_extension": ".py",
   "mimetype": "text/x-python",
   "name": "python",
   "nbconvert_exporter": "python",
   "pygments_lexer": "ipython3",
   "version": "3.5.1"
  }
 },
 "nbformat": 4,
 "nbformat_minor": 0
}
