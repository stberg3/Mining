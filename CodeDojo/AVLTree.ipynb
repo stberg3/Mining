{
 "cells": [
  {
   "cell_type": "code",
   "execution_count": 29,
   "metadata": {
    "collapsed": true
   },
   "outputs": [],
   "source": [
    "# AVLTree.py\n",
    "\n",
    "class Node(object):\n",
    "    def __init__(self, data):\n",
    "        self.data = data\n",
    "        self.weight = 0\n",
    "        self.left_child = None\n",
    "        self.right_child = None\n",
    "\n",
    "    def __str__(self):\n",
    "        return str(self.data) + \" (\" + str(self.weight) + \")\"\n",
    "\n",
    "    def __repr__(self):\n",
    "        return str(self)\n",
    "\n",
    "class AVLTree(object):\n",
    "    def __init__(self, array=None):\n",
    "        self.root = None\n",
    "        if array != None:\n",
    "            for el in array:\n",
    "                self.add(el)\n",
    "\n",
    "    def add(self, data):\n",
    "        # spec. case\n",
    "        new_node = Node(data)\n",
    "\n",
    "        if not self.root:\n",
    "            self.root = new_node\n",
    "            return\n",
    "\n",
    "        probe_parent = None\n",
    "        probe = self.root\n",
    "\n",
    "        while probe != None:\n",
    "            if new_node.data < probe.data:\n",
    "                probe.weight -= 1\n",
    "                probe_parent = probe\n",
    "                probe = probe.left_child\n",
    "            elif probe.data < new_node.data:\n",
    "                probe.weight += 1\n",
    "                probe_parent = probe\n",
    "                probe = probe.right_child\n",
    "            else:\n",
    "                raise ValueError(\"Bad key: dups disallowed {0}\".format(probe))\n",
    "\n",
    "        if new_node.data < probe_parent.data:\n",
    "            probe_parent.left_child = new_node\n",
    "        elif new_node.data > probe_parent.data:\n",
    "            probe_parent.right_child = new_node\n",
    "        else:\n",
    "            raise ValueError(\"Bad key: dups disallowed {0}\".format(probe))\n",
    "\n",
    "    def inOrder(self):\n",
    "        self.inOrderList = []\n",
    "        self.inOrderHelper(self.root)\n",
    "        return self.inOrderList\n",
    "\n",
    "    def inOrderHelper(self, node=None):\n",
    "        if node == None:\n",
    "            return\n",
    "\n",
    "        if node.left_child:\n",
    "            self.inOrderHelper(node.left_child)\n",
    "\n",
    "        self.inOrderList.insert(0,node)\n",
    "\n",
    "        if node.right_child:\n",
    "            self.inOrderHelper(node.right_child)\n",
    "\n",
    "l = lambda x : x.left_child\n",
    "r = lambda x : x.right_child"
   ]
  },
  {
   "cell_type": "code",
   "execution_count": 31,
   "metadata": {
    "collapsed": false
   },
   "outputs": [
    {
     "name": "stdout",
     "output_type": "stream",
     "text": [
      "[11 (0), 10 (0), 7 (0), 0 (2), -10 (0)]\n"
     ]
    }
   ],
   "source": [
    "tree = AVLTree()\n",
    "tree.add(0)\n",
    "tree.add(-10)\n",
    "tree.add(10)\n",
    "tree.add(7)\n",
    "tree.add(11)\n",
    "\n",
    "print(tree.inOrder())\n"
   ]
  },
  {
   "cell_type": "code",
   "execution_count": 22,
   "metadata": {
    "collapsed": false
   },
   "outputs": [
    {
     "name": "stdout",
     "output_type": "stream",
     "text": [
      "0 (2)\n",
      "10 (0)\n",
      "None\n"
     ]
    }
   ],
   "source": [
    "root = tree.root\n",
    "print(root)\n",
    "print(root.right_child)\n",
    "print(root.right_child.right_child.left_child)\n"
   ]
  }
 ],
 "metadata": {
  "kernelspec": {
   "display_name": "Python 3",
   "language": "python",
   "name": "python3"
  },
  "language_info": {
   "codemirror_mode": {
    "name": "ipython",
    "version": 3
   },
   "file_extension": ".py",
   "mimetype": "text/x-python",
   "name": "python",
   "nbconvert_exporter": "python",
   "pygments_lexer": "ipython3",
   "version": "3.5.1"
  }
 },
 "nbformat": 4,
 "nbformat_minor": 0
}
