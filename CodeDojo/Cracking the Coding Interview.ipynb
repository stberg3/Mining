{
 "cells": [
  {
   "cell_type": "code",
   "execution_count": 16,
   "metadata": {
    "collapsed": false
   },
   "outputs": [
    {
     "data": {
      "text/plain": [
       "True"
      ]
     },
     "execution_count": 16,
     "metadata": {},
     "output_type": "execute_result"
    }
   ],
   "source": [
    "# 1-4\n",
    "# Determine whether an input string is a permuation of a palindrome\n",
    "\n",
    "s = \"A man, a plan, a canal Panama!\"\n",
    "letters = list(filter(lambda x : x.isalpha(), [l for l in s.lower()]))\n",
    "l_counts = {}\n",
    "\n",
    "for letter in letters:\n",
    "  if letter in l_counts.keys():\n",
    "    l_counts[letter] = l_counts[letter]+1\n",
    "  else:\n",
    "    l_counts[letter] = 1\n",
    "    \n",
    "odds = len(list(filter(lambda x: x%2==1, l_counts.values())))\n",
    "odds <= 1"
   ]
  },
  {
   "cell_type": "code",
   "execution_count": 159,
   "metadata": {
    "collapsed": false
   },
   "outputs": [],
   "source": [
    "# My own: generate all permutations of a given word\n",
    "# Hint: N! ways\n",
    "from functools import reduce\n",
    "word = \"help\"\n",
    "\n",
    "def swap(w, x, y):\n",
    "  l = [letter for letter in w]\n",
    "  l[x] = w[y]\n",
    "  l[y] = w[x]\n",
    "  return str(reduce(lambda x,y: x+y, l))\n",
    "  \n",
    "# recursive backtracking (from 4041 notes...)\n",
    "def permute(w, i=None, l=[]):\n",
    "  if i == None:\n",
    "    permute(w, 0)\n",
    "    return l\n",
    "  elif i < len(w):\n",
    "    index = i\n",
    "    while index in range(len(w)):\n",
    "      w=swap(w, i, index)\n",
    "      permute(w, i+1)\n",
    "      w=swap(w, i, index)\n",
    "      index += 1\n",
    "  else:\n",
    "    print(w)\n",
    "    l.append(w)\n",
    "      "
   ]
  },
  {
   "cell_type": "code",
   "execution_count": 163,
   "metadata": {
    "collapsed": false
   },
   "outputs": [
    {
     "name": "stdout",
     "output_type": "stream",
     "text": [
      "abc\n",
      "acb\n",
      "bac\n",
      "bca\n",
      "cba\n",
      "cab\n"
     ]
    },
    {
     "data": {
      "text/plain": [
       "24"
      ]
     },
     "execution_count": 163,
     "metadata": {},
     "output_type": "execute_result"
    }
   ],
   "source": [
    "el=[]\n",
    "el=permute(\"abc\")\n",
    "len(el)"
   ]
  }
 ],
 "metadata": {
  "kernelspec": {
   "display_name": "Python 3",
   "language": "python",
   "name": "python3"
  },
  "language_info": {
   "codemirror_mode": {
    "name": "ipython",
    "version": 3
   },
   "file_extension": ".py",
   "mimetype": "text/x-python",
   "name": "python",
   "nbconvert_exporter": "python",
   "pygments_lexer": "ipython3",
   "version": "3.5.1"
  }
 },
 "nbformat": 4,
 "nbformat_minor": 0
}
