{
 "cells": [
  {
   "cell_type": "markdown",
   "metadata": {},
   "source": [
    "### 4.4  Balanced BST\n",
    "Design an algorithm that determines whether a BST is balanced"
   ]
  },
  {
   "cell_type": "code",
   "execution_count": 37,
   "metadata": {
    "collapsed": true
   },
   "outputs": [],
   "source": [
    "class Node(object):\n",
    "  __slots__ = [\"data\", \"l_child\", \"r_child\"]\n",
    "  \n",
    "  def __init__(self, data):\n",
    "    self.data = data\n",
    "    self.r_child = None\n",
    "    self.l_child = None\n",
    "    \n",
    "  def __str__(self):\n",
    "    return str(self.data)\n",
    "  \n",
    "  def __repr__(self):\n",
    "    return str(self)\n",
    "    \n",
    "class BST(object):\n",
    "  def __init__(self):\n",
    "    self.root = None"
   ]
  },
  {
   "cell_type": "code",
   "execution_count": 38,
   "metadata": {
    "collapsed": false
   },
   "outputs": [],
   "source": [
    "b_bst = BST()\n",
    "b_bst.root = Node(10)\n",
    "\n",
    "b_bst.root.l_child = Node(5)\n",
    "b_bst.root.r_child = Node(15)\n",
    "\n",
    "b_bst.root.l_child.l_child = Node(3)\n",
    "b_bst.root.l_child.r_child = Node(7)\n",
    "b_bst.root.r_child.l_child = Node(13)\n",
    "b_bst.root.r_child.r_child = Node(17)\n",
    "\n",
    "u_bst = BST()\n",
    "u_bst.root = Node(10)\n",
    "\n",
    "u_bst.root.l_child = Node(5)\n",
    "u_bst.root.r_child = Node(15)\n",
    "\n",
    "u_bst.root.l_child.l_child = Node(3)\n",
    "u_bst.root.l_child.l_child.l_child = Node(1)\n",
    "u_bst.root.r_child.l_child = Node(13)\n",
    "# u_bst.root.r_child.r_child = Node(17)"
   ]
  },
  {
   "cell_type": "code",
   "execution_count": 43,
   "metadata": {
    "collapsed": true
   },
   "outputs": [],
   "source": [
    "def max_depth(root):\n",
    "  if root.l_child and root.r_child:\n",
    "    return max(max_depth(root.l_child), max_depth(root.r_child)) + 1\n",
    "  elif root.l_child:\n",
    "    return max_depth(root.l_child) + 1\n",
    "  elif root.r_child:\n",
    "    return max_depth(root.r_child) + 1\n",
    "  else:\n",
    "    return 0\n",
    "  \n",
    "def is_balanced(root):\n",
    "#   print(\"max_depth({0}) = {1}\".format(root, max_depth(root)))\n",
    "  if root.l_child and root.r_child:\n",
    "#     print(\".\")\n",
    "    return ( abs(max_depth(root.l_child) - max_depth(root.r_child)) < 2 and\n",
    "             is_balanced(root.l_child) and \n",
    "             is_balanced(root.r_child))\n",
    "  elif root.l_child:\n",
    "#     print(\"..\")\n",
    "    return ( max_depth(root.l_child) < 1 and\n",
    "             is_balanced(root.l_child))\n",
    "  elif root.r_child:\n",
    "#     print(\"...\")\n",
    "    return ( max_depth(root.r_child) < 1 and\n",
    "             is_balanced(root.r_child))\n",
    "  else:\n",
    "#     print(\"....\")\n",
    "    return True"
   ]
  },
  {
   "cell_type": "code",
   "execution_count": 45,
   "metadata": {
    "collapsed": false
   },
   "outputs": [
    {
     "name": "stdout",
     "output_type": "stream",
     "text": [
      "True\n",
      "False\n"
     ]
    }
   ],
   "source": [
    "print(is_balanced(b_bst.root))\n",
    "print(is_balanced(u_bst.root))"
   ]
  }
 ],
 "metadata": {
  "kernelspec": {
   "display_name": "Python 3",
   "language": "python",
   "name": "python3"
  },
  "language_info": {
   "codemirror_mode": {
    "name": "ipython",
    "version": 3
   },
   "file_extension": ".py",
   "mimetype": "text/x-python",
   "name": "python",
   "nbconvert_exporter": "python",
   "pygments_lexer": "ipython3",
   "version": "3.5.1"
  }
 },
 "nbformat": 4,
 "nbformat_minor": 0
}
