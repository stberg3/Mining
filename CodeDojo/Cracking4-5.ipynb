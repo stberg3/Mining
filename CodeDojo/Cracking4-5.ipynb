{
 "cells": [
  {
   "cell_type": "markdown",
   "metadata": {},
   "source": [
    "### 4.5 Validate BST\n",
    "Create an algorithm that determins whether a given tree is a BST"
   ]
  },
  {
   "cell_type": "code",
   "execution_count": 5,
   "metadata": {
    "collapsed": false
   },
   "outputs": [],
   "source": [
    "class Node(object):\n",
    "  __slots__ = [\"data\", \"l_child\", \"r_child\"]\n",
    "  \n",
    "  def __init__(self, data):\n",
    "    self.data = data\n",
    "    self.r_child = None\n",
    "    self.l_child = None\n",
    "    \n",
    "  def __str__(self):\n",
    "    return str(self.data)\n",
    "  \n",
    "  def __repr__(self):\n",
    "    return str(self)\n",
    "  \n",
    "  def __gt__(self, other):\n",
    "    return self.data > other.data\n",
    "  \n",
    "  def __lt__(self, other):\n",
    "    return self.data < other.data\n",
    "    \n",
    "class BST(object):\n",
    "  def __init__(self):\n",
    "    self.root = None"
   ]
  },
  {
   "cell_type": "code",
   "execution_count": 16,
   "metadata": {
    "collapsed": false
   },
   "outputs": [],
   "source": [
    "b_bst = BST()\n",
    "b_bst.root = Node(10)\n",
    "\n",
    "b_bst.root.l_child = Node(6)\n",
    "b_bst.root.r_child = Node(15)\n",
    "\n",
    "b_bst.root.l_child.l_child = Node(3)\n",
    "b_bst.root.l_child.r_child = Node(7)\n",
    "b_bst.root.r_child.l_child = Node(13)\n",
    "b_bst.root.r_child.r_child = Node(17)"
   ]
  },
  {
   "cell_type": "code",
   "execution_count": 7,
   "metadata": {
    "collapsed": true
   },
   "outputs": [],
   "source": [
    "def validateBST(root):\n",
    "  if root.l_child and root.r_child:\n",
    "    return ( validateBST(root.l_child) and \n",
    "             validateBST(root.r_child) and \n",
    "             root.l_child < root and\n",
    "             root < root.r_child) \n",
    "  elif root.l_child:\n",
    "    return ( validateBST(root.l_child) and \n",
    "             root.l_child < root) \n",
    "  elif root.r_child:\n",
    "    return ( validateBST(root.r_child) and \n",
    "             root.r_child > root) \n",
    "  else:\n",
    "    return True"
   ]
  },
  {
   "cell_type": "code",
   "execution_count": 17,
   "metadata": {
    "collapsed": false
   },
   "outputs": [
    {
     "data": {
      "text/plain": [
       "True"
      ]
     },
     "execution_count": 17,
     "metadata": {},
     "output_type": "execute_result"
    }
   ],
   "source": [
    "validateBST(b_bst.root)"
   ]
  }
 ],
 "metadata": {
  "kernelspec": {
   "display_name": "Python 3",
   "language": "python",
   "name": "python3"
  },
  "language_info": {
   "codemirror_mode": {
    "name": "ipython",
    "version": 3
   },
   "file_extension": ".py",
   "mimetype": "text/x-python",
   "name": "python",
   "nbconvert_exporter": "python",
   "pygments_lexer": "ipython3",
   "version": "3.5.1"
  }
 },
 "nbformat": 4,
 "nbformat_minor": 0
}
