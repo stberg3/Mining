{
 "cells": [
  {
   "cell_type": "markdown",
   "metadata": {},
   "source": [
    "###  Successor\n",
    "Write an alg. to find the next node (in-order successor) of a given node in a BST. You may assume each node has a link to its parent"
   ]
  },
  {
   "cell_type": "code",
   "execution_count": 14,
   "metadata": {
    "collapsed": true
   },
   "outputs": [],
   "source": [
    "class Node(object):\n",
    "  __slots__ = [\"data\", \"parent\", \"l_child\", \"r_child\"]\n",
    "  \n",
    "  def __init__(self, data):\n",
    "    self.data = data\n",
    "    self.parent = None\n",
    "    self.r_child = None\n",
    "    self.l_child = None\n",
    "    \n",
    "  def __str__(self):\n",
    "    return str(self.data)\n",
    "  \n",
    "  def __repr__(self):\n",
    "    return str(self)\n",
    "  \n",
    "  def __gt__(self, other):\n",
    "    return self.data > other.data\n",
    "  \n",
    "  def __lt__(self, other):\n",
    "    return self.data < other.data\n",
    "  \n",
    "  def __eq__(self, other):\n",
    "    return self.data == other.data\n",
    "    \n",
    "class BST(object):\n",
    "  def __init__(self):\n",
    "    self.root = None"
   ]
  },
  {
   "cell_type": "code",
   "execution_count": 20,
   "metadata": {
    "collapsed": false
   },
   "outputs": [],
   "source": [
    "b_bst = BST()\n",
    "b_bst.root = Node(10)\n",
    "\n",
    "b_bst.root.l_child = Node(5)\n",
    "b_bst.root.r_child = Node(15)\n",
    "b_bst.root.l_child.parent = b_bst.root\n",
    "b_bst.root.r_child.parent = b_bst.root\n",
    "\n",
    "b_bst.root.l_child.l_child = Node(3)\n",
    "b_bst.root.l_child.r_child = Node(7)\n",
    "# b_bst.root.r_child.l_child = Node(13)\n",
    "b_bst.root.r_child.r_child = Node(17)\n",
    "\n",
    "b_bst.root.l_child.l_child.parent = b_bst.root.l_child\n",
    "b_bst.root.l_child.r_child.parent = b_bst.root.l_child\n",
    "# b_bst.root.r_child.l_child.parent = b_bst.root.r_child\n",
    "b_bst.root.r_child.r_child.parent = b_bst.root.r_child"
   ]
  },
  {
   "cell_type": "code",
   "execution_count": 17,
   "metadata": {
    "collapsed": false
   },
   "outputs": [
    {
     "name": "stdout",
     "output_type": "stream",
     "text": [
      "10 3\n",
      "5\n"
     ]
    }
   ],
   "source": [
    "def lowest(node):\n",
    "  probe = node\n",
    "  while probe.l_child:\n",
    "    probe = probe.l_child\n",
    "  return probe\n",
    "      \n",
    "def greatest(root):\n",
    "  probe = root\n",
    "  while probe.r_child:\n",
    "    probe = probe.r_child\n",
    "\n",
    "  return probe\n",
    "\n",
    "def successor(root, node):\n",
    "  if node.parent:\n",
    "      if node.r_child:\n",
    "        return lowest(node.r_child)\n",
    "      else:\n",
    "        if node < node.parent:\n",
    "          return node.parent\n",
    "        else:\n",
    "          if node.r_child:\n",
    "            return node.r_child\n",
    "          else:\n",
    "            if node == greatest(root):\n",
    "              return None\n",
    "            else:\n",
    "              return node.parent.parent\n",
    "  else:\n",
    "    if node.r_child:\n",
    "      return lowest(node.r_child)\n",
    "    else:\n",
    "      return None\n",
    "  \n",
    "print(b_bst.root, b_bst.root.l_child.l_child)\n",
    "print(successor(b_bst.root, b_bst.root.l_child.l_child))"
   ]
  },
  {
   "cell_type": "code",
   "execution_count": 21,
   "metadata": {
    "collapsed": false
   },
   "outputs": [
    {
     "name": "stdout",
     "output_type": "stream",
     "text": [
      "3\n",
      "5\n",
      "7\n",
      "10\n",
      "15\n",
      "17\n"
     ]
    }
   ],
   "source": [
    "probe = b_bst.root.l_child.l_child\n",
    "\n",
    "while probe:\n",
    "  print(probe)\n",
    "  probe = successor(b_bst.root, probe)\n",
    "  i += 1"
   ]
  },
  {
   "cell_type": "code",
   "execution_count": 13,
   "metadata": {
    "collapsed": false
   },
   "outputs": [
    {
     "name": "stdout",
     "output_type": "stream",
     "text": [
      "17\n",
      "10\n"
     ]
    }
   ],
   "source": [
    "print(b_bst.root.r_child.r_child)\n",
    "print(successor(b_bst.root.r_child.r_child))"
   ]
  }
 ],
 "metadata": {
  "kernelspec": {
   "display_name": "Python 3",
   "language": "python",
   "name": "python3"
  },
  "language_info": {
   "codemirror_mode": {
    "name": "ipython",
    "version": 3
   },
   "file_extension": ".py",
   "mimetype": "text/x-python",
   "name": "python",
   "nbconvert_exporter": "python",
   "pygments_lexer": "ipython3",
   "version": "3.5.1"
  }
 },
 "nbformat": 4,
 "nbformat_minor": 0
}
