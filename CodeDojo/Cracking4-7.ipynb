{
 "cells": [
  {
   "cell_type": "markdown",
   "metadata": {},
   "source": [
    "### 4.7 Build Order\n",
    "You're given a list of projects and a list of dependencies (as tuples). Find a build order that satisfies project dependencies before building the project. It must return an error if there is no way to build the project"
   ]
  },
  {
   "cell_type": "code",
   "execution_count": 50,
   "metadata": {
    "collapsed": true
   },
   "outputs": [],
   "source": [
    "class Node(object):\n",
    "  __slots__ = [\"data\", \"children\"]\n",
    "  \n",
    "  def __init__(self, data):\n",
    "    self.data = data\n",
    "    self.children = list()\n",
    "    \n",
    "  def __str__(self):\n",
    "    return str(self.data)\n",
    "  \n",
    "  def __repr__(self):\n",
    "    return str(self)\n"
   ]
  },
  {
   "cell_type": "code",
   "execution_count": 43,
   "metadata": {
    "collapsed": false
   },
   "outputs": [
    {
     "ename": "KeyboardInterrupt",
     "evalue": "",
     "output_type": "error",
     "traceback": [
      "\u001b[1;31m---------------------------------------\u001b[0m",
      "\u001b[1;31mKeyboardInterrupt\u001b[0mTraceback (most recent call last)",
      "\u001b[1;32m<ipython-input-43-0d09a745caf7>\u001b[0m in \u001b[0;36m<module>\u001b[1;34m()\u001b[0m\n\u001b[0;32m     36\u001b[0m   \u001b[1;32mreturn\u001b[0m \u001b[0mbuild_order\u001b[0m\u001b[1;33m\u001b[0m\u001b[0m\n\u001b[0;32m     37\u001b[0m \u001b[1;33m\u001b[0m\u001b[0m\n\u001b[1;32m---> 38\u001b[1;33m \u001b[0mprint\u001b[0m\u001b[1;33m(\u001b[0m\u001b[0mbuild_project\u001b[0m\u001b[1;33m(\u001b[0m\u001b[0mprojects\u001b[0m\u001b[1;33m,\u001b[0m \u001b[0mbad_dependencies\u001b[0m\u001b[1;33m)\u001b[0m\u001b[1;33m)\u001b[0m\u001b[1;33m\u001b[0m\u001b[0m\n\u001b[0m",
      "\u001b[1;32m<ipython-input-43-0d09a745caf7>\u001b[0m in \u001b[0;36mbuild_project\u001b[1;34m(targs, depts)\u001b[0m\n\u001b[0;32m     17\u001b[0m     \u001b[0mprobe\u001b[0m \u001b[1;33m=\u001b[0m \u001b[0mnot_built\u001b[0m\u001b[1;33m.\u001b[0m\u001b[0mpop\u001b[0m\u001b[1;33m(\u001b[0m\u001b[1;36m0\u001b[0m\u001b[1;33m)\u001b[0m\u001b[1;33m\u001b[0m\u001b[0m\n\u001b[0;32m     18\u001b[0m     \u001b[0mwait\u001b[0m \u001b[1;33m=\u001b[0m \u001b[1;32mFalse\u001b[0m\u001b[1;33m\u001b[0m\u001b[0m\n\u001b[1;32m---> 19\u001b[1;33m     \u001b[1;32mfor\u001b[0m \u001b[0mdept\u001b[0m \u001b[1;32min\u001b[0m \u001b[0mproject_dict\u001b[0m\u001b[1;33m[\u001b[0m\u001b[0mprobe\u001b[0m\u001b[1;33m]\u001b[0m\u001b[1;33m:\u001b[0m\u001b[1;33m\u001b[0m\u001b[0m\n\u001b[0m\u001b[0;32m     20\u001b[0m       \u001b[1;32mif\u001b[0m \u001b[0mprobe\u001b[0m \u001b[1;32min\u001b[0m \u001b[0mproject_dict\u001b[0m\u001b[1;33m[\u001b[0m\u001b[0mdept\u001b[0m\u001b[1;33m]\u001b[0m\u001b[1;33m:\u001b[0m\u001b[1;33m\u001b[0m\u001b[0m\n\u001b[0;32m     21\u001b[0m         \u001b[0mprint\u001b[0m\u001b[1;33m(\u001b[0m\u001b[1;34m\"CYCLE ERROR!\"\u001b[0m\u001b[1;33m,\u001b[0m \u001b[0mprobe\u001b[0m\u001b[1;33m,\u001b[0m \u001b[0mdept\u001b[0m\u001b[1;33m)\u001b[0m\u001b[1;33m\u001b[0m\u001b[0m\n",
      "\u001b[1;31mKeyboardInterrupt\u001b[0m: "
     ]
    }
   ],
   "source": [
    "projects = ['a','b','c','d','e','f']\n",
    "dependencies =  [('d', 'a'), ('b', 'f'),('d','b'),('a','f'),('c','d')]\n",
    "bad_dependencies =  [('d', 'a'), ('b', 'f'),('d','b'),('a','c'),('c','d'),('d','a')]\n",
    "\n",
    "\n",
    "def build_project(targs, depts):\n",
    "  project_dict ={ key:list() for key in targs}\n",
    "  for t,d in depts:\n",
    "    project_dict[t].append(d)\n",
    "\n",
    "  built = set()\n",
    "  build_order = list()\n",
    "\n",
    "  not_built = [p for p in projects]\n",
    "  while len(not_built) > 0:\n",
    "  #   print(\"not built:\", not_built)\n",
    "    probe = not_built.pop(0)\n",
    "    wait = False\n",
    "    for dept in project_dict[probe]:\n",
    "      if probe in project_dict[dept]:\n",
    "        print(\"CYCLE ERROR!\", probe, dept)\n",
    "        return None\n",
    "      if dept not in built:\n",
    "  #       print(dept,\"not in\",built)\n",
    "  #       not_built.append(dept)\n",
    "        wait = True\n",
    "  #     else:\n",
    "  #       print(dept,\"in\",built)\n",
    "\n",
    "    if wait:\n",
    "      not_built.append(probe)\n",
    "    else:\n",
    "      built.add(probe)\n",
    "      build_order.append(probe)\n",
    "    \n",
    "  return build_order\n",
    "    \n",
    "print(build_project(projects, bad_dependencies))"
   ]
  },
  {
   "cell_type": "code",
   "execution_count": 69,
   "metadata": {
    "collapsed": true
   },
   "outputs": [],
   "source": [
    "def build(project):\n",
    "  built = set()\n",
    "  build = list()\n",
    "  queue = list(project.keys())\n",
    "  \n",
    "  while len(queue) > 0:\n",
    "    buildOK = True\n",
    "    key = queue.pop(0)\n",
    "    if key in project_dict:\n",
    "      print(\"CYCLE ERROR\", key, projects[key])\n",
    "      return None\n",
    "    for i in project[key].children:\n",
    "      if i not in built:\n",
    "        buildOK = False\n",
    "        \n",
    "    if buildOK:\n",
    "      built.add(key)\n",
    "      build.append(key)\n",
    "    else:\n",
    "      queue.append(key)\n",
    "      \n",
    "  return build\n",
    "      \n",
    "def build_project(targs, depts):\n",
    "#   project_dict ={ key:list() for key in targs}\n",
    "  node_dict = {key:Node(key) for key in targs}\n",
    "  for key, targ in depts:\n",
    "    node_dict[key].children.append(targ)\n",
    "  for t,d in depts:\n",
    "    project_dict[t].append(d)\n",
    "\n",
    "  build_order = build(node_dict)\n",
    "    \n",
    "  return build_order"
   ]
  },
  {
   "cell_type": "code",
   "execution_count": 70,
   "metadata": {
    "collapsed": false
   },
   "outputs": [
    {
     "ename": "KeyboardInterrupt",
     "evalue": "",
     "output_type": "error",
     "traceback": [
      "\u001b[1;31m---------------------------------------\u001b[0m",
      "\u001b[1;31mKeyboardInterrupt\u001b[0mTraceback (most recent call last)",
      "\u001b[1;32m<ipython-input-70-b84036ee5d59>\u001b[0m in \u001b[0;36m<module>\u001b[1;34m()\u001b[0m\n\u001b[1;32m----> 1\u001b[1;33m \u001b[0mprint\u001b[0m\u001b[1;33m(\u001b[0m\u001b[0mbuild_project\u001b[0m\u001b[1;33m(\u001b[0m\u001b[0mprojects\u001b[0m\u001b[1;33m,\u001b[0m\u001b[0mbad_dependencies\u001b[0m\u001b[1;33m)\u001b[0m\u001b[1;33m)\u001b[0m\u001b[1;33m\u001b[0m\u001b[0m\n\u001b[0m",
      "\u001b[1;32m<ipython-input-69-4f765cde2dbe>\u001b[0m in \u001b[0;36mbuild_project\u001b[1;34m(targs, depts)\u001b[0m\n\u001b[0;32m     30\u001b[0m     \u001b[0mproject_dict\u001b[0m\u001b[1;33m[\u001b[0m\u001b[0mt\u001b[0m\u001b[1;33m]\u001b[0m\u001b[1;33m.\u001b[0m\u001b[0mappend\u001b[0m\u001b[1;33m(\u001b[0m\u001b[0md\u001b[0m\u001b[1;33m)\u001b[0m\u001b[1;33m\u001b[0m\u001b[0m\n\u001b[0;32m     31\u001b[0m \u001b[1;33m\u001b[0m\u001b[0m\n\u001b[1;32m---> 32\u001b[1;33m   \u001b[0mbuild_order\u001b[0m \u001b[1;33m=\u001b[0m \u001b[0mbuild\u001b[0m\u001b[1;33m(\u001b[0m\u001b[0mnode_dict\u001b[0m\u001b[1;33m)\u001b[0m\u001b[1;33m\u001b[0m\u001b[0m\n\u001b[0m\u001b[0;32m     33\u001b[0m \u001b[1;33m\u001b[0m\u001b[0m\n\u001b[0;32m     34\u001b[0m   \u001b[1;32mreturn\u001b[0m \u001b[0mbuild_order\u001b[0m\u001b[1;33m\u001b[0m\u001b[0m\n",
      "\u001b[1;32m<ipython-input-69-4f765cde2dbe>\u001b[0m in \u001b[0;36mbuild\u001b[1;34m(project)\u001b[0m\n\u001b[0;32m      4\u001b[0m   \u001b[0mqueue\u001b[0m \u001b[1;33m=\u001b[0m \u001b[0mlist\u001b[0m\u001b[1;33m(\u001b[0m\u001b[0mproject\u001b[0m\u001b[1;33m.\u001b[0m\u001b[0mkeys\u001b[0m\u001b[1;33m(\u001b[0m\u001b[1;33m)\u001b[0m\u001b[1;33m)\u001b[0m\u001b[1;33m\u001b[0m\u001b[0m\n\u001b[0;32m      5\u001b[0m \u001b[1;33m\u001b[0m\u001b[0m\n\u001b[1;32m----> 6\u001b[1;33m   \u001b[1;32mwhile\u001b[0m \u001b[0mlen\u001b[0m\u001b[1;33m(\u001b[0m\u001b[0mqueue\u001b[0m\u001b[1;33m)\u001b[0m \u001b[1;33m>\u001b[0m \u001b[1;36m0\u001b[0m\u001b[1;33m:\u001b[0m\u001b[1;33m\u001b[0m\u001b[0m\n\u001b[0m\u001b[0;32m      7\u001b[0m     \u001b[0mbuildOK\u001b[0m \u001b[1;33m=\u001b[0m \u001b[1;32mTrue\u001b[0m\u001b[1;33m\u001b[0m\u001b[0m\n\u001b[0;32m      8\u001b[0m     \u001b[0mkey\u001b[0m \u001b[1;33m=\u001b[0m \u001b[0mqueue\u001b[0m\u001b[1;33m.\u001b[0m\u001b[0mpop\u001b[0m\u001b[1;33m(\u001b[0m\u001b[1;36m0\u001b[0m\u001b[1;33m)\u001b[0m\u001b[1;33m\u001b[0m\u001b[0m\n",
      "\u001b[1;31mKeyboardInterrupt\u001b[0m: "
     ]
    }
   ],
   "source": [
    "print(build_project(projects,bad_dependencies))"
   ]
  },
  {
   "cell_type": "markdown",
   "metadata": {},
   "source": [
    "``projects = ['a','b','c','d','e','f']\n",
    "dependencies =  [('d', 'a'), ('b', 'f'),('d','b'),('a','f'),('c','d')]``"
   ]
  }
 ],
 "metadata": {
  "kernelspec": {
   "display_name": "Python 3",
   "language": "python",
   "name": "python3"
  },
  "language_info": {
   "codemirror_mode": {
    "name": "ipython",
    "version": 3
   },
   "file_extension": ".py",
   "mimetype": "text/x-python",
   "name": "python",
   "nbconvert_exporter": "python",
   "pygments_lexer": "ipython3",
   "version": "3.5.1"
  }
 },
 "nbformat": 4,
 "nbformat_minor": 0
}
