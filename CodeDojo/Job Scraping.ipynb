{
 "cells": [
  {
   "cell_type": "code",
   "execution_count": 52,
   "metadata": {
    "collapsed": false
   },
   "outputs": [],
   "source": [
    "from places import employers\n",
    "from urllib.request import urlopen \n",
    "from json import loads\n",
    "\n",
    "apiroot = \"http://api.duckduckgo.com/?q=\"\n",
    "apitail = \"&format=json\"\n",
    "employers[0]\n",
    "\n",
    "def getJson(employer):\n",
    "  url = apiroot + employer.replace(\" \", \"+\") + apitail\n",
    "  response = urlopen(url).read().decode(\"utf-8\")\n",
    "  return loads(response)"
   ]
  },
  {
   "cell_type": "code",
   "execution_count": 53,
   "metadata": {
    "collapsed": false
   },
   "outputs": [],
   "source": [
    "d = getJson(employers[0])"
   ]
  },
  {
   "cell_type": "code",
   "execution_count": 57,
   "metadata": {
    "collapsed": false
   },
   "outputs": [
    {
     "name": "stdout",
     "output_type": "stream",
     "text": [
      "('Type', '')\n",
      "('Answer', '')\n",
      "('AbstractURL', '')\n",
      "('Redirect', '')\n",
      "('Entity', '')\n",
      "('Infobox', '')\n",
      "('Abstract', '')\n",
      "('AbstractSource', '')\n",
      "('AbstractText', '')\n",
      "('Image', '')\n",
      "('Heading', '')\n",
      "('DefinitionURL', '')\n",
      "('ImageHeight', '')\n",
      "('DefinitionSource', '')\n",
      "('ImageIsLogo', '')\n",
      "('Results', [])\n",
      "('RelatedTopics', [])\n",
      "('meta', {'description': 'Comprehensive R Archive Network (CRAN) lists all officially-accepted extensions to the R statistical computing language core.', 'blockgroup': None, 'src_domain': 'https://cran.r-project.org/web/packages/available_packages_by_name.html', 'repo': 'fathead', 'dev_milestone': 'development', 'status': None, 'src_id': None, 'js_callback_name': 'cran', 'topic': ['R'], 'perl_module': 'DDG::Fathead::Cran', 'src_url': 'https://cran.r-project.org/web/packages/available_packages_by_name.html', 'live_date': None, 'producer': None, 'maintainer': {'github': 'laurenancona'}, 'developer': [{'type': 'github', 'url': 'https://github.com/laurenancona', 'name': 'laurenancona'}, {'type': 'github', 'url': 'https://github.com/ctufts', 'name': 'ctufts'}], 'tab': None, 'unsafe': None, 'signal_from': 'cran', 'id': 'cran', 'src_options': {'min_abstract_length': None, 'is_wikipedia': 0, 'skip_qr': '', 'src_skip': '', 'directory': '', 'skip_icon': 0, 'language': '', 'src_info': 'CRAN', 'skip_abstract': 1, 'skip_image_name': 0, 'is_fanon': 0, 'is_mediawiki': 0, 'skip_abstract_paren': 0}, 'src_name': 'CRAN', 'designer': None, 'production_state': 'offline', 'attribution': None, 'example_query': 'cran', 'created_date': '2017-01-20', 'is_stackexchange': None, 'dev_date': '2017-01-27', 'name': 'R Packages (CRAN)'})\n",
      "('AnswerType', '')\n",
      "('ImageWidth', '')\n",
      "('Definition', '')\n"
     ]
    }
   ],
   "source": [
    "for i in d.items():\n",
    "  print(i)"
   ]
  },
  {
   "cell_type": "code",
   "execution_count": 58,
   "metadata": {
    "collapsed": false
   },
   "outputs": [
    {
     "name": "stdout",
     "output_type": "stream",
     "text": [
      "9g Enterprises dba SurveyVitals\n"
     ]
    }
   ],
   "source": [
    "print(employers[0])"
   ]
  },
  {
   "cell_type": "code",
   "execution_count": 34,
   "metadata": {
    "collapsed": false
   },
   "outputs": [
    {
     "ename": "AttributeError",
     "evalue": "'Request' object has no attribute 'json'",
     "output_type": "error",
     "traceback": [
      "\u001b[1;31m---------------------------------------\u001b[0m",
      "\u001b[1;31mAttributeError\u001b[0mTraceback (most recent call last)",
      "\u001b[1;32m<ipython-input-34-685c2164b962>\u001b[0m in \u001b[0;36m<module>\u001b[1;34m()\u001b[0m\n\u001b[1;32m----> 1\u001b[1;33m \u001b[0mr\u001b[0m\u001b[1;33m.\u001b[0m\u001b[0mjson\u001b[0m\u001b[1;33m\u001b[0m\u001b[0m\n\u001b[0m",
      "\u001b[1;31mAttributeError\u001b[0m: 'Request' object has no attribute 'json'"
     ]
    }
   ],
   "source": [
    "r.json"
   ]
  }
 ],
 "metadata": {
  "kernelspec": {
   "display_name": "Python 3",
   "language": "python",
   "name": "python3"
  }
 },
 "nbformat": 4,
 "nbformat_minor": 0
}
