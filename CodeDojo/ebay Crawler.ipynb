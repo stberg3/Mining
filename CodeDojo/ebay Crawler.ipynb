{
 "cells": [
  {
   "cell_type": "code",
   "execution_count": 56,
   "metadata": {
    "collapsed": false
   },
   "outputs": [],
   "source": [
    "import lxml\n",
    "from bs4 import BeautifulSoup\n",
    "from urllib.request import urlopen\n",
    "\n",
    "url = \"http://www.ebay.com/itm/Wolverine-1000-Mile-Brown-Leather-Plain-Toe-Boot-Mens-Size-12-D-/272533729564?hash=item3f7446b11c:g:o~gAAOSwUKxYh6SD\"\n",
    "page = urlopen(url).read()\n",
    "soup = BeautifulSoup(page, \"lxml\")"
   ]
  },
  {
   "cell_type": "code",
   "execution_count": 57,
   "metadata": {
    "collapsed": false
   },
   "outputs": [
    {
     "name": "stdout",
     "output_type": "stream",
     "text": [
      "49.99\n",
      "2d 00h\n",
      "2\n",
      "0\n"
     ]
    }
   ],
   "source": [
    "import re\n",
    "pattern = re.compile(\"\\w+\\s\\w+\")\n",
    "price = soup.find(\"span\",id=\"prcIsum_bidPrice\")[\"content\"]\n",
    "time_left_text = soup.find(\"span\", id=\"vi-cdown_timeLeft\").text\n",
    "time_left = re.findall(pattern,time_left_text)[0]\n",
    "print(price)\n",
    "print(time_left)\n",
    "d_pat = \"(\\d+)d\"\n",
    "h_pat = \"(\\d+)h\"\n",
    "days=int(re.findall(d_pat, time_left_text)[0])\n",
    "hours=int(re.findall(h_pat, time_left_text)[0])\n",
    "print(days)\n",
    "print(hours)"
   ]
  },
  {
   "cell_type": "code",
   "execution_count": 62,
   "metadata": {
    "collapsed": false
   },
   "outputs": [],
   "source": [
    "from urllib.request import build_opener\n",
    "import pprint\n",
    "opener = build_opener()\n",
    "cookie_string = \"Cookie=AMCVS_A71B5B5B54F607AB0A4C98A2%40AdobeOrg=1; AMCV_A71B5B5B54F607AB0A4C98A2%40AdobeOrg=-1758798782%7CMCIDTS%7C17196%7CMCMID%7C28079894218658277242467472934391325068%7CMCAAMLH-1486324501%7C7%7CMCAAMB-1486324501%7CcIBAx_aQzFEHcPoEv0GwcQ%7CMCCIDH%7C-175765242%7CMCOPTOUT-1485726901s%7CNONE%7CMCAID%7CNONE; cid=R3xiIcA4OipDNHtJ%23298884957; shs=BAQAAAVnNxaFJAAaAAVUADlpvpx04MzA3ODY0NzAwMDksMppDi8gSiynR0WKE8B15Jeh1PSRa; ds1=ats/1485730717214; cssg=ebcaec981590aa13ac6701d6fff6ac1d; JSESSIONID=7420AE7368DB6FEF5AEB08B3B585678C; ds2=; ns1=BAQAAAVnNxaFJAAaAAKUADFpvqDg4MjYzNDQzMDgvMDsA2ABJWm+oOGM2OXw2MDFeMTQ4NTcxOTY5NTQ2OV5eMV4zfDJ8NXw0fDdeMV4yXjReM14xMl4xMl4yXjFeMV4wXjFeMF4xXjY0NDI0NTkwNzXYedT+hmqdvTEvC/rL1Y8TVFc60Q**; s=BAQAAAVnNxaFJAAWAAAwACViPxjg4MjYzNDQzMDgA+AAgWI/GOGViY2FlYzk4MTU5MGFhMTNhYzY3MDFkNmZmZjZhYzFkAAYAAViPxjgwAWUAAliPxjgjMgASAApYj8Y4dGVzdENvb2tpZQA9AAdYj8Y4c3RiZXJnMwFFAAhab6g4NTg4ZTczOGUAEQAMWI54TTAwMDAwc3RiZXJnMwCoAAFYj8UdMQD0ACJYj8Y4JDIkYkxLM0tCZUIkLkU1V1Y3VXNmdnlNcTI5dWIwZThnLwDuAMFYj8Y4MwZodHRwOi8vd3d3LmViYXkuY29tL3NjaC9Cb290cy8xMTQ5OC9pLmh0bWw/X2Zyb209UjQwJlVTJTI1MjBTaG9lJTI1MjBTaXplJTI1MjAlMjUyOE1lbiUyNTI3cyUyNTI5PTEyJkxIX0F1Y3Rpb249MSZfbmt3PXdvbHZlcmluZSZfZGNhdD0xMTQ5OCZydD1uYyZfbVByUm5nQ2J4PTEmX3VkbG8mX3VkaGk9MTUwI2l0ZW0zZjc0NDZiMTFjBwABAAdYj8Udc3RiZXJnMwADAAVYj8Y4MTYzODQ0MVpOMsXc5TGsLZG6C8j7XhbUYA**; nonsession=BAQAAAVnNxaFJAAaAAJ0ACFpvqDgwMDAwMDAwMACqAAFab6g4MQFkAANab6g4IzhhAAgAHFi2AbgxNDg1NzMwOTkyeDI3MjUzMzcyOTU2NHgweDJZADMADlpvqDg1NTQzMS0xNTMyLFVTQQDLAAJYjnvANjMAmgAIWJEWnXN0YmVyZzNnAEAAB1pvqDhzdGJlcmczABAAB1pvqDhzdGJlcmczAPMAIlpvqDgkMiRiTEszS0JlQiQuRTVXVjdVc2Z2eU1xMjl1YjBlOGcvAMoAIGH0djhlYmNhZWM5ODE1OTBhYTEzYWM2NzAxZDZmZmY2YWMxZAAEAAdab6cdc3RiZXJnMwCcADhab6g4blkrc0haMlByQm1kajZ3Vm5ZK3NFWjJQckEyZGo2d01rb1NpREpTQm9RU2RqNng5blkrc2VRPT3DtlyoiSnFfuQeRTHpm5AG4aKZCw**; npii=btguid/ebcaec981590aa13ac6701d6fff6ac1d5a6fa875^cguid/ebcaf0f01590abd9aee5edfffe3c4ddc5a6fa875^; ebay=%5EsfLMD%3D1294134922%5Esin%3Din%5Esbf%3D%2361000000000180000000004%5Ecos%3D2%5Ecv%3D15555%5Ejs%3D1%5E; dp1=bkms/in5c50dbb8^u1f/Sam5a6fa838^tzo/168588e82c8^idm/1588f99f4^exc/0%3A0%3A0%3A058b601b8^pcid/2988849575a6fa838^mpc/0%7C0589ba3b8^a1p/0588fc638^u1p/c3RiZXJnMw**5a6fa838^bl/US5c50dbb8^expt/0001485730717828597f0d5e^pbf/#30800000008000e000008080000000045c50dc22^\"\n",
    "opener.addheaders.append((\"Cookie\", cookie_string))\n",
    "response = opener.open(url).read() "
   ]
  },
  {
   "cell_type": "code",
   "execution_count": 66,
   "metadata": {
    "collapsed": false
   },
   "outputs": [
    {
     "data": {
      "text/plain": [
       "255630"
      ]
     },
     "execution_count": 66,
     "metadata": {},
     "output_type": "execute_result"
    }
   ],
   "source": [
    "soup2 = BeautifulSoup(response, \"lxml\")\n",
    "file = open(\"test.html\", \"w\")\n",
    "file.write(soup.prettify())"
   ]
  }
 ],
 "metadata": {
  "kernelspec": {
   "display_name": "Python 3",
   "language": "python",
   "name": "python3"
  },
  "language_info": {
   "codemirror_mode": {
    "name": "ipython",
    "version": 3
   },
   "file_extension": ".py",
   "mimetype": "text/x-python",
   "name": "python",
   "nbconvert_exporter": "python",
   "pygments_lexer": "ipython3",
   "version": "3.5.1"
  }
 },
 "nbformat": 4,
 "nbformat_minor": 0
}
