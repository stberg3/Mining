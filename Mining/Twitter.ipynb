{
 "cells": [
  {
   "cell_type": "code",
   "execution_count": 7,
   "metadata": {
    "collapsed": false
   },
   "outputs": [
    {
     "name": "stdout",
     "output_type": "stream",
     "text": [
      "<twitter.api.Twitter object at 0x02DAA6B0>\n"
     ]
    }
   ],
   "source": [
    "import twitter\n",
    "import json\n",
    "\n",
    "CONSUMER_KEY ='4wfP1LYyClije7eU00TLYPK69'\n",
    "CONSUMER_SECRET = 'tiEzzK0rRQqUwrcBBTQWidzLGEPA5au1Mh4jwnpfZaY9vZGQR1'\n",
    "OAUTH_TOKEN = '797493704-MmAyQXmXL2pGyBX3f8MZkhcSIZ9ulam2nxf0ufgB'\n",
    "OAUTH_TOKEN_SECRET = 'xdXpgt4VmqKkF8MG4hzNbeNGJTTwmZz4QmSbev5oypIGY'\n",
    "\n",
    "auth = twitter.oauth.OAuth(OAUTH_TOKEN, \n",
    "                          OAUTH_TOKEN_SECRET, \n",
    "                          CONSUMER_KEY, \n",
    "                          CONSUMER_SECRET)\n",
    "\n",
    "twitter_api = twitter.Twitter(auth=auth)\n",
    "\n",
    "#print(twitter_api)\n"
   ]
  },
  {
   "cell_type": "code",
   "execution_count": 49,
   "metadata": {
    "collapsed": false,
    "scrolled": true
   },
   "outputs": [],
   "source": [
    "WORLD_WOE_ID = 1\n",
    "US_WOE_ID = 23424977\n",
    "\n",
    "world_trends = twitter_api.trends.place(_id=WORLD_WOE_ID)\n",
    "us_trends = twitter_api.trends.place(_id=US_WOE_ID)\n",
    "\n",
    "#print(json.dumps(world_trends,indent=1))"
   ]
  },
  {
   "cell_type": "code",
   "execution_count": 28,
   "metadata": {
    "collapsed": false
   },
   "outputs": [],
   "source": [
    "world_trends_set = set([trend['name']\n",
    "                      for trend in world_trends[0]['trends']])\n",
    "\n",
    "us_trends_set = set([trend['name']\n",
    "                      for trend in world_trends[0]['trends']])\n",
    "\n",
    "common_trends = world_trends_set.intersection(us_trends_set)\n",
    "\n",
    "#print(common_trends)"
   ]
  },
  {
   "cell_type": "code",
   "execution_count": 83,
   "metadata": {
    "collapsed": false,
    "scrolled": false
   },
   "outputs": [],
   "source": [
    "q = '#GERSVK'\n",
    "count = 100\n",
    "\n",
    "search_results = twitter_api.search.tweets(q=q,count=count)\n",
    "\n",
    "statuses = search_results['statuses']\n",
    "\n",
    "for _ in range(5):\n",
    "    #print(\"Length of statuses\", len(statuses))\n",
    "    try:\n",
    "        next_results = search_results['search_metadata']['next_results']\n",
    "    except KeyError as e:# No more results when next_results doesn't exist\n",
    "        break\n",
    "\n",
    "    kwargs = dict([ kv.split('=') for kv in next_results[1:].split(\"&\") ])\n",
    "\n",
    "    search_results = twitter_api.search.tweets(**kwargs)\n",
    "    statuses += search_results['statuses']\n",
    "\n",
    "#print(json.dumps(statuses[0], indent=1))\n",
    "#print(statuses[0].keys())\n",
    "\n",
    "#for i in range(50):\n",
    "#    print(statuses[i]['user']['screen_name'].upper() + \":\\n\\t \"+ statuses[i]['text'])"
   ]
  },
  {
   "cell_type": "code",
   "execution_count": 86,
   "metadata": {
    "collapsed": false,
    "scrolled": false
   },
   "outputs": [
    {
     "name": "stdout",
     "output_type": "stream",
     "text": [
      "[\n",
      " \"RT @DFB_Team_EN: FULL TIME in Lille. Quarterfinals, here we come! #JederFuerJeden #EURO2016 #GERSVK 3-0 https://t.co/lLCqr90FU0\",\n",
      " \"RT @GebbiGibson: Podolski beim Stand 3:0 bringen. Wie die Kinder \\u201cmitkochen\\u201d zu lassen, indem sie das fertige Essen am Ende nochmal umr\\u00fchre\\u2026\",\n",
      " \"RT @GebbiGibson: Der Schuss von Boateng kam von so weit weg, die n\\u00e4chsten L\\u00e4nderspiele macht er vom Home-Office aus. #GERSVK\",\n",
      " \"RT @mbfussball: 11:0 Torsch\\u00fcsse \\u2714\\n63% Ballbesitz \\u2714\\n91% Passquote \\u2714\\n\\nWe call it Einbahnstra\\u00dfenfu\\u00dfball! Weiter so, @DFB_Team! #GERSVK #ViveLa\\u2026\",\n",
      " \"RT @DFB_Team_EN: Coincidence that we won the trophy in 1972 and 1996? \\ud83e\\udd14 #JederFuerJeden #EURO2016 #GERSVK 3-0 https://t.co/iYVsWoVh1V\"\n",
      "]\n"
     ]
    }
   ],
   "source": [
    "status_texts = [status['text'] \n",
    "                for status in statuses]\n",
    "\n",
    "print(json.dumps(status_texts[0:5], indent=1))"
   ]
  },
  {
   "cell_type": "code",
   "execution_count": null,
   "metadata": {
    "collapsed": true
   },
   "outputs": [],
   "source": []
  }
 ],
 "metadata": {
  "kernelspec": {
   "display_name": "Python 3",
   "language": "python",
   "name": "python3"
  },
  "language_info": {
   "codemirror_mode": {
    "name": "ipython",
    "version": 3
   },
   "file_extension": ".py",
   "mimetype": "text/x-python",
   "name": "python",
   "nbconvert_exporter": "python",
   "pygments_lexer": "ipython3",
   "version": "3.5.1"
  }
 },
 "nbformat": 4,
 "nbformat_minor": 0
}
